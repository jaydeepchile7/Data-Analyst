{
 "cells": [
  {
   "cell_type": "code",
   "execution_count": null,
   "id": "39e19ef4-0123-4685-b58b-bcb7ff6f562f",
   "metadata": {},
   "outputs": [],
   "source": [
    "### JAYDEEP ANANDA CHILE {B105}"
   ]
  },
  {
   "cell_type": "code",
   "execution_count": 3,
   "id": "afc35a11-7a2b-4461-810c-7e250a9f301a",
   "metadata": {},
   "outputs": [
    {
     "data": {
      "text/plain": [
       "2401"
      ]
     },
     "execution_count": 3,
     "metadata": {},
     "output_type": "execute_result"
    }
   ],
   "source": [
    "7**4"
   ]
  },
  {
   "cell_type": "raw",
   "id": "863ae7f3-7890-4d8b-aebe-92306404a471",
   "metadata": {},
   "source": [
    "'''What is 7 to the power of 4?'''"
   ]
  },
  {
   "cell_type": "raw",
   "id": "ff222e61-1fb0-450c-b64b-72de560309ac",
   "metadata": {},
   "source": [
    "'''Split this string:\n",
    "        s = \"Hi there Yogesh!\"\n",
    " into a list. '''"
   ]
  },
  {
   "cell_type": "code",
   "execution_count": 6,
   "id": "5dbf7ee6-8305-41d3-b9e9-6523edc0bbaf",
   "metadata": {},
   "outputs": [
    {
     "data": {
      "text/plain": [
       "['Hi', 'there', 'Yogesh!']"
      ]
     },
     "execution_count": 6,
     "metadata": {},
     "output_type": "execute_result"
    }
   ],
   "source": [
    "s = \"Hi there Yogesh!\"\n",
    "s.split()"
   ]
  },
  {
   "cell_type": "raw",
   "id": "fa300c4c-f7f4-4f8d-977f-c86c99e34a0a",
   "metadata": {},
   "source": [
    "'''\n",
    "Given the variables:\n",
    "\n",
    "planet = \"Earth\"\n",
    "diameter = 12742\n",
    "   Use .format() to print the following string: \n",
    "\n",
    "The diameter of Earth is 12742 kilometers.'''"
   ]
  },
  {
   "cell_type": "code",
   "execution_count": 10,
   "id": "7efd08ad-c427-4b89-b59f-6a02c01112bc",
   "metadata": {},
   "outputs": [
    {
     "name": "stdout",
     "output_type": "stream",
     "text": [
      "the diameter of Earth is 12742 km.\n"
     ]
    }
   ],
   "source": [
    "planet = \"Earth\"\n",
    "diameter = 12742\n",
    "print(\"the diameter of {} is {} km.\".format(planet,diameter))"
   ]
  },
  {
   "cell_type": "raw",
   "id": "f8f29114-82f5-4587-ba34-c436abf706cd",
   "metadata": {},
   "source": [
    "'''Given this nested list, use indexing to grab the word \"hello\"\n",
    "lst = [1,2,[3,4],[5,[100,200,['hello']],23,11],1,7]'''"
   ]
  },
  {
   "cell_type": "code",
   "execution_count": 12,
   "id": "5d77dbb0-35a6-4597-9e44-1ede83ac5378",
   "metadata": {},
   "outputs": [
    {
     "data": {
      "text/plain": [
       "'hello'"
      ]
     },
     "execution_count": 12,
     "metadata": {},
     "output_type": "execute_result"
    }
   ],
   "source": [
    "lst = [1,2,[3,4],[5,[100,200,['hello']],23,11],1,7]\n",
    "lst[3][1][2][0]"
   ]
  },
  {
   "cell_type": "raw",
   "id": "f9472bf8-d047-48e4-9ac3-2bd2dbf8fc40",
   "metadata": {},
   "source": [
    "'''Given this nested dictionary grab the word \"hello\". Be prepared, this will be annoying/tricky \n",
    "d = {'k1':[1,2,3,{'tricky':['oh','man','inception',{'target':[1,2,3,'hello']}]}]}'''"
   ]
  },
  {
   "cell_type": "code",
   "execution_count": 14,
   "id": "82a62afd-c3ff-4a2d-b5fe-1e4bb9381997",
   "metadata": {},
   "outputs": [
    {
     "data": {
      "text/plain": [
       "'hello'"
      ]
     },
     "execution_count": 14,
     "metadata": {},
     "output_type": "execute_result"
    }
   ],
   "source": [
    "d = {'k1':[1,2,3,{'tricky':['oh','man','inception',{'target':[1,2,3,'hello']}]}]}\n",
    "d['k1'][3]['tricky'][3]['target'][3]"
   ]
  },
  {
   "cell_type": "raw",
   "id": "c6c3540a-f91e-4073-9d69-ac9caaf980c8",
   "metadata": {},
   "source": [
    "''' What is the main difference between a tuple and a list? '''"
   ]
  },
  {
   "cell_type": "raw",
   "id": "493713dd-a872-4cbd-a18d-5c6a57e52ba4",
   "metadata": {},
   "source": [
    "# Tuple is immutable"
   ]
  },
  {
   "cell_type": "raw",
   "id": "7350b83a-6db6-419d-ae17-94b4fb6eb78f",
   "metadata": {},
   "source": [
    "''' Create a function that grabs the email website domain from a string in the form: \n",
    "\n",
    "user@domain.com\n",
    "So for example, passing \"user@domain.com\" would return: domain.com '''"
   ]
  },
  {
   "cell_type": "code",
   "execution_count": 22,
   "id": "afc1d10a-352f-4a30-9551-dd52f1ba90d0",
   "metadata": {},
   "outputs": [
    {
     "data": {
      "text/plain": [
       "'gmail.com'"
      ]
     },
     "execution_count": 22,
     "metadata": {},
     "output_type": "execute_result"
    }
   ],
   "source": [
    "def fun1(x):\n",
    "    return x.split(\"@\")[1]\n",
    "fun1('jaydeepch07@gmail.com')"
   ]
  },
  {
   "cell_type": "code",
   "execution_count": 24,
   "id": "78e3d53a-2090-4c13-b605-be875511f771",
   "metadata": {},
   "outputs": [
    {
     "data": {
      "text/plain": [
       "'yahoo.com'"
      ]
     },
     "execution_count": 24,
     "metadata": {},
     "output_type": "execute_result"
    }
   ],
   "source": [
    "fun1('hvfugvd@yahoo.com')"
   ]
  },
  {
   "cell_type": "raw",
   "id": "d2b208f7-8789-4b0b-928e-cc006c659b05",
   "metadata": {},
   "source": [
    "''' Create a basic function that returns True if the word 'dog' is contained in the input string. Don't worry about edge cases like a punctuation being attached to the word dog, but do account for capitalization. '''"
   ]
  },
  {
   "cell_type": "code",
   "execution_count": 26,
   "id": "66486214-9d80-4d8e-af55-a307260f4f8d",
   "metadata": {},
   "outputs": [
    {
     "name": "stdout",
     "output_type": "stream",
     "text": [
      "True\n"
     ]
    }
   ],
   "source": [
    "x = 'containDogs'\n",
    "def x (i):\n",
    "    print('dog' in i.lower().split())\n",
    "x('i love my doG')"
   ]
  },
  {
   "cell_type": "code",
   "execution_count": 28,
   "id": "1ed4e92d-9345-4ca9-ab3d-133c82eb7a8c",
   "metadata": {},
   "outputs": [
    {
     "name": "stdout",
     "output_type": "stream",
     "text": [
      "True\n"
     ]
    }
   ],
   "source": [
    "x('shbxiashvicbsj DOG hbaichbn')\n"
   ]
  },
  {
   "cell_type": "code",
   "execution_count": 30,
   "id": "b25e5344-92e0-41e2-a76a-a273255de2b5",
   "metadata": {},
   "outputs": [
    {
     "name": "stdout",
     "output_type": "stream",
     "text": [
      "False\n"
     ]
    }
   ],
   "source": [
    "x('i have bsvxhsbxhsjkbnkdoghjsxbiahbc')"
   ]
  },
  {
   "cell_type": "raw",
   "id": "422d9b6c-a2a3-40ff-bd95-0ef9b8b966f2",
   "metadata": {},
   "source": [
    "''' Create a function that counts the number of times the word \"dog\" occurs in a string. Again ignore edge cases.'''"
   ]
  },
  {
   "cell_type": "code",
   "execution_count": 32,
   "id": "a4ecefc6-8a99-4ae5-8f11-c9b81dbda7ea",
   "metadata": {},
   "outputs": [
    {
     "data": {
      "text/plain": [
       "5"
      ]
     },
     "execution_count": 32,
     "metadata": {},
     "output_type": "execute_result"
    }
   ],
   "source": [
    "def countDog(i):\n",
    "     i.lower().split()\n",
    "     return i.count('dog')\n",
    "countDog('dog dog dog dog dog ')"
   ]
  },
  {
   "cell_type": "code",
   "execution_count": 34,
   "id": "a4a1e37b-c17b-4f66-8073-176d195e2426",
   "metadata": {},
   "outputs": [
    {
     "data": {
      "text/plain": [
       "1"
      ]
     },
     "execution_count": 34,
     "metadata": {},
     "output_type": "execute_result"
    }
   ],
   "source": [
    "countDog('DOgdogDOG')"
   ]
  },
  {
   "cell_type": "code",
   "execution_count": 36,
   "id": "f8366827-0d91-4d77-a2eb-d0a70f3a674d",
   "metadata": {},
   "outputs": [],
   "source": [
    "def count_dog(s):\n",
    "    c=0\n",
    "    for v in s.lower().split():\n",
    "        if v=='dog':\n",
    "            c=c+1\n",
    "    print(c)"
   ]
  },
  {
   "cell_type": "code",
   "execution_count": 38,
   "id": "247f26af-6c62-4d98-bf31-5c728b874d3a",
   "metadata": {},
   "outputs": [
    {
     "name": "stdout",
     "output_type": "stream",
     "text": [
      "3\n"
     ]
    }
   ],
   "source": [
    "count_dog('DOg dog DOG')"
   ]
  },
  {
   "cell_type": "raw",
   "id": "116a76d3-512f-49a1-b72f-af34678ea27f",
   "metadata": {},
   "source": [
    "'''You are driving a little too fast, and a police officer stops you. Write a function to return one of 3 possible results: \"No ticket\", \"Small ticket\", or \"Big Ticket\". If your speed is 60 or less, the result is \"No Ticket\". If speed is between 61 and 80 inclusive, the result is \"Small Ticket\". If speed is 81 or more, the result is \"Big Ticket\". Unless it is your birthday (encoded as a boolean value in the parameters of the function) -- on your birthday, your speed can be 5 higher in all cases.'''"
   ]
  },
  {
   "cell_type": "code",
   "execution_count": 40,
   "id": "da704d2b-9b3d-456a-a3cb-b7785e38ee1f",
   "metadata": {},
   "outputs": [],
   "source": [
    "def police_caught(s,b):\n",
    "    if b:\n",
    "        s=s-5\n",
    "    else:\n",
    "        s=s\n",
    "    if s>80:\n",
    "        return \"big ticket\"\n",
    "    elif 61<s>80:\n",
    "        return \"small ticket\"\n",
    "    else:\n",
    "        return \"no ticket\""
   ]
  },
  {
   "cell_type": "code",
   "execution_count": 42,
   "id": "58be33cb-3970-48a1-bcf6-71e01ccd0954",
   "metadata": {},
   "outputs": [
    {
     "data": {
      "text/plain": [
       "'no ticket'"
      ]
     },
     "execution_count": 42,
     "metadata": {},
     "output_type": "execute_result"
    }
   ],
   "source": [
    "police_caught(81,True)"
   ]
  },
  {
   "cell_type": "code",
   "execution_count": 44,
   "id": "e44e1180-3944-49e0-8c62-366b12f2ab9b",
   "metadata": {},
   "outputs": [
    {
     "data": {
      "text/plain": [
       "'big ticket'"
      ]
     },
     "execution_count": 44,
     "metadata": {},
     "output_type": "execute_result"
    }
   ],
   "source": [
    "police_caught(81,False)"
   ]
  },
  {
   "cell_type": "code",
   "execution_count": 46,
   "id": "af81844e-5957-4edc-b7dc-05f4f6c8d1ae",
   "metadata": {},
   "outputs": [
    {
     "data": {
      "text/plain": [
       "'no ticket'"
      ]
     },
     "execution_count": 46,
     "metadata": {},
     "output_type": "execute_result"
    }
   ],
   "source": [
    "police_caught(50,False)"
   ]
  },
  {
   "cell_type": "raw",
   "id": "8162c350-2aaf-400e-b676-2c9a17e46751",
   "metadata": {},
   "source": [
    "'''\n",
    "WAP to check whether a number is palindrome or not on following conditions.\n",
    "1. take input number\n",
    "2. add number and its reverse\n",
    "3. check that number is palindrome or not,if not then sum and its reverse'''"
   ]
  },
  {
   "cell_type": "code",
   "execution_count": 48,
   "id": "e10ce5f4-00a5-47a4-8a62-0245f118c691",
   "metadata": {},
   "outputs": [
    {
     "name": "stdin",
     "output_type": "stream",
     "text": [
      "enter a number -  89\n"
     ]
    },
    {
     "name": "stdout",
     "output_type": "stream",
     "text": [
      "first number is -  968\n",
      "rverse number is -  869\n",
      "first number is -  1837\n",
      "rverse number is -  7381\n",
      "first number is -  9218\n",
      "rverse number is -  8129\n",
      "first number is -  17347\n",
      "rverse number is -  74371\n",
      "first number is -  91718\n",
      "rverse number is -  81719\n",
      "first number is -  173437\n",
      "rverse number is -  734371\n",
      "first number is -  907808\n",
      "rverse number is -  808709\n",
      "first number is -  1716517\n",
      "rverse number is -  7156171\n",
      "first number is -  8872688\n",
      "rverse number is -  8862788\n",
      "first number is -  17735476\n",
      "rverse number is -  67453771\n",
      "first number is -  85189247\n",
      "rverse number is -  74298158\n",
      "first number is -  159487405\n",
      "rverse number is -  504784951\n",
      "first number is -  664272356\n",
      "rverse number is -  653272466\n",
      "first number is -  1317544822\n",
      "rverse number is -  2284457131\n",
      "first number is -  3602001953\n",
      "rverse number is -  3591002063\n",
      "first number is -  7193004016\n",
      "rverse number is -  6104003917\n",
      "first number is -  13297007933\n",
      "rverse number is -  33970079231\n",
      "first number is -  47267087164\n",
      "rverse number is -  46178076274\n",
      "first number is -  93445163438\n",
      "rverse number is -  83436154439\n",
      "first number is -  176881317877\n",
      "rverse number is -  778713188671\n",
      "first number is -  955594506548\n",
      "rverse number is -  845605495559\n",
      "first number is -  1801200002107\n",
      "rverse number is -  7012000021081\n",
      "first number is -  8813200023188\n",
      "rverse number is -  8813200023188\n",
      "palindrome is -  8813200023188\n"
     ]
    }
   ],
   "source": [
    "n1 = input(\"enter a number - \") \n",
    "n2 = int(n1[::-1])             ##converting into integer because we cant reverse a number in typecasting...\n",
    "n3 = str(int(n1)+int(n2))      ##converting into integer \n",
    "while n3!=n3[::-1]:\n",
    "    n3=str(int(n3)+int(n3[::-1]))\n",
    "    print(\"first number is - \",n3)\n",
    "    print(\"rverse number is - \",n3[::-1])\n",
    "print(\"palindrome is - \",n3)"
   ]
  },
  {
   "cell_type": "raw",
   "id": "37029b2e-7146-4f7a-913a-265fbde3d788",
   "metadata": {},
   "source": [
    "'''Write a python function to find and display the five \n",
    "digit number in which the first digit is two more than \n",
    "the second,the second digit is two more than the third,\n",
    "the fourth digit is two less than the third, and the \n",
    "last digit is two more than\n",
    "the fourth.The sum of the third,fourth and fifth digits\n",
    "equals the first.The sum of all the digits is 19'''"
   ]
  },
  {
   "cell_type": "code",
   "execution_count": 79,
   "id": "5e3e4e9e-454d-4e3b-8996-689313afbcc9",
   "metadata": {},
   "outputs": [
    {
     "name": "stdout",
     "output_type": "stream",
     "text": [
      "The number is: 75313\n"
     ]
    }
   ],
   "source": [
    "def find_number():\n",
    "    for c in range(10):\n",
    "     b = c + 2  \n",
    "     a = b + 2 \n",
    "     d = c - 2  \n",
    "     e = d + 2 \n",
    "     if 0 <= a <= 9 and 0 <= b <= 9 and 0 <= c <= 9 and 0 <= d <= 9 and 0 <= e <= 9:\n",
    "            if a + b + c + d + e == 19:\n",
    "                 if c + d + e == a:\n",
    "                    return F\"The number is: {a}{b}{c}{d}{e}\"\n",
    "\n",
    "    return \"No such number exists\"\n",
    "\n",
    "print(find_number())\n"
   ]
  },
  {
   "cell_type": "code",
   "execution_count": null,
   "id": "b43a79f7-c59b-442b-8c72-788e6eb3c64a",
   "metadata": {},
   "outputs": [],
   "source": []
  }
 ],
 "metadata": {
  "kernelspec": {
   "display_name": "Python [conda env:base] *",
   "language": "python",
   "name": "conda-base-py"
  },
  "language_info": {
   "codemirror_mode": {
    "name": "ipython",
    "version": 3
   },
   "file_extension": ".py",
   "mimetype": "text/x-python",
   "name": "python",
   "nbconvert_exporter": "python",
   "pygments_lexer": "ipython3",
   "version": "3.12.7"
  }
 },
 "nbformat": 4,
 "nbformat_minor": 5
}
