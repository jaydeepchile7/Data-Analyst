{
 "cells": [
  {
   "cell_type": "code",
   "execution_count": 5,
   "id": "28ce1867-e2f0-491a-9faa-3dc8a292f692",
   "metadata": {},
   "outputs": [],
   "source": [
    "import numpy as np"
   ]
  },
  {
   "cell_type": "markdown",
   "id": "5e6d0e1f-c303-4ab8-be0e-3463486ee242",
   "metadata": {},
   "source": [
    "#### Create an array of 10 zeros"
   ]
  },
  {
   "cell_type": "code",
   "execution_count": 8,
   "id": "ea83c332-a449-4a1b-baf4-99530e5419ac",
   "metadata": {},
   "outputs": [
    {
     "data": {
      "text/plain": [
       "array([0., 0., 0., 0., 0., 0., 0., 0., 0., 0.])"
      ]
     },
     "execution_count": 8,
     "metadata": {},
     "output_type": "execute_result"
    }
   ],
   "source": [
    "np.zeros((10))"
   ]
  },
  {
   "cell_type": "markdown",
   "id": "16439ac8-e5ea-4148-a645-db673522711b",
   "metadata": {},
   "source": [
    "#### Create an array of 10 ones"
   ]
  },
  {
   "cell_type": "code",
   "execution_count": 14,
   "id": "688f92a4-4991-4894-b9b4-4408d3cd43e3",
   "metadata": {},
   "outputs": [
    {
     "data": {
      "text/plain": [
       "array([1., 1., 1., 1., 1., 1., 1., 1., 1., 1.])"
      ]
     },
     "execution_count": 14,
     "metadata": {},
     "output_type": "execute_result"
    }
   ],
   "source": [
    "np.ones((10))"
   ]
  },
  {
   "cell_type": "markdown",
   "id": "5cd49330-d76f-4b21-8b5e-4fdd9664ac75",
   "metadata": {},
   "source": [
    "#### Create an array of 10 fives"
   ]
  },
  {
   "cell_type": "code",
   "execution_count": 19,
   "id": "a604cf0c-b2d5-4b8d-9eef-ed9d0c021db9",
   "metadata": {},
   "outputs": [
    {
     "data": {
      "text/plain": [
       "array([5., 5., 5., 5., 5., 5., 5., 5.])"
      ]
     },
     "execution_count": 19,
     "metadata": {},
     "output_type": "execute_result"
    }
   ],
   "source": [
    "np.ones((8))*5"
   ]
  },
  {
   "cell_type": "markdown",
   "id": "403a3ed2-8463-44c0-a7f5-e64975fa5a9c",
   "metadata": {},
   "source": [
    "#### Create an array of the integers from 10 to 50"
   ]
  },
  {
   "cell_type": "code",
   "execution_count": 23,
   "id": "6ce6cb2f-6156-44e0-9cbf-72018719f593",
   "metadata": {},
   "outputs": [],
   "source": [
    "arr=np.arange(10,51)"
   ]
  },
  {
   "cell_type": "code",
   "execution_count": 25,
   "id": "6b6beca3-1f2a-4020-9113-88e83fb76f55",
   "metadata": {},
   "outputs": [
    {
     "data": {
      "text/plain": [
       "array([10, 11, 12, 13, 14, 15, 16, 17, 18, 19, 20, 21, 22, 23, 24, 25, 26,\n",
       "       27, 28, 29, 30, 31, 32, 33, 34, 35, 36, 37, 38, 39, 40, 41, 42, 43,\n",
       "       44, 45, 46, 47, 48, 49, 50])"
      ]
     },
     "execution_count": 25,
     "metadata": {},
     "output_type": "execute_result"
    }
   ],
   "source": [
    "arr"
   ]
  },
  {
   "cell_type": "markdown",
   "id": "a4b9bace-8b1d-4d0a-aa35-ff08444ad2a0",
   "metadata": {},
   "source": [
    "#### Create an array of all the even integers from 10 to 503"
   ]
  },
  {
   "cell_type": "code",
   "execution_count": 29,
   "id": "3abcdb4f-599d-4d4f-8742-29caed650d41",
   "metadata": {},
   "outputs": [],
   "source": [
    "arr=np.arange(10,51,2)"
   ]
  },
  {
   "cell_type": "code",
   "execution_count": 31,
   "id": "f0b16432-2cba-4bb0-9b30-e1f5f262d70f",
   "metadata": {},
   "outputs": [
    {
     "data": {
      "text/plain": [
       "array([10, 12, 14, 16, 18, 20, 22, 24, 26, 28, 30, 32, 34, 36, 38, 40, 42,\n",
       "       44, 46, 48, 50])"
      ]
     },
     "execution_count": 31,
     "metadata": {},
     "output_type": "execute_result"
    }
   ],
   "source": [
    "arr"
   ]
  },
  {
   "cell_type": "markdown",
   "id": "c5650227-fbf0-4677-8003-0819b34eed48",
   "metadata": {},
   "source": [
    "#### Create a 3x3 matrix with values ranging from 0 to 8"
   ]
  },
  {
   "cell_type": "code",
   "execution_count": 35,
   "id": "e2ac1d95-5c06-48fc-8407-7230928c199a",
   "metadata": {},
   "outputs": [
    {
     "data": {
      "text/plain": [
       "array([[0, 1, 2],\n",
       "       [3, 4, 5],\n",
       "       [6, 7, 8]])"
      ]
     },
     "execution_count": 35,
     "metadata": {},
     "output_type": "execute_result"
    }
   ],
   "source": [
    "arr2d=np.arange(0,9).reshape(3,3)\n",
    "arr2d"
   ]
  },
  {
   "cell_type": "markdown",
   "id": "6e8bcd6f-9910-4b38-9027-86094363a3ed",
   "metadata": {},
   "source": [
    "#### Create a 3x3 identity matrix"
   ]
  },
  {
   "cell_type": "code",
   "execution_count": 45,
   "id": "aa5254e2-4c82-43d5-9092-ea27aa85e0fc",
   "metadata": {},
   "outputs": [
    {
     "data": {
      "text/plain": [
       "array([[1., 0., 0.],\n",
       "       [0., 1., 0.],\n",
       "       [0., 0., 1.]])"
      ]
     },
     "execution_count": 45,
     "metadata": {},
     "output_type": "execute_result"
    }
   ],
   "source": [
    "np.eye(3)"
   ]
  },
  {
   "cell_type": "markdown",
   "id": "da154c96-49c4-4fea-8eb6-058801869015",
   "metadata": {},
   "source": [
    "#### Use NumPy to generate a random number between 0 and 1"
   ]
  },
  {
   "cell_type": "code",
   "execution_count": 48,
   "id": "3a897b87-cfa3-4de9-a9ba-b7a62139a73e",
   "metadata": {},
   "outputs": [
    {
     "data": {
      "text/plain": [
       "array([0.27912738])"
      ]
     },
     "execution_count": 48,
     "metadata": {},
     "output_type": "execute_result"
    }
   ],
   "source": [
    "np.random.rand(1)"
   ]
  },
  {
   "cell_type": "markdown",
   "id": "2d5eac4a-bb36-473a-a4fd-ebedf798e7f4",
   "metadata": {},
   "source": [
    "#### Use NumPy to generate an array of 25 random numbers sampled from a standard normal distribution"
   ]
  },
  {
   "cell_type": "code",
   "execution_count": 57,
   "id": "55429463-41be-4507-8635-c4d11905672e",
   "metadata": {},
   "outputs": [
    {
     "data": {
      "text/plain": [
       "array([[-0.53744777, -1.60435911, -0.96327683, -0.30857767, -1.59057405],\n",
       "       [-0.74361237,  0.76238242, -2.00740369, -0.14363112,  0.48991799],\n",
       "       [-0.65309049,  0.61113134,  2.37074269,  2.03289615, -0.38938084],\n",
       "       [ 1.05234475, -2.90799204,  0.29334962,  1.01246079, -0.31664695],\n",
       "       [ 1.41256959,  1.56917392,  1.57964399, -0.0790275 , -0.59264337]])"
      ]
     },
     "execution_count": 57,
     "metadata": {},
     "output_type": "execute_result"
    }
   ],
   "source": [
    "np.random.randn(5,5)"
   ]
  },
  {
   "cell_type": "markdown",
   "id": "0939a867-7d7c-4f9e-b535-096f39b4e0b6",
   "metadata": {},
   "source": [
    "#### Create the following matrix:"
   ]
  },
  {
   "cell_type": "code",
   "execution_count": 11,
   "id": "d7fad2a9-181f-4ba9-9415-81bfa0f58b11",
   "metadata": {},
   "outputs": [],
   "source": [
    "\n",
    "arr = np.arange(0.01,1.01,0.01).reshape(10,10)"
   ]
  },
  {
   "cell_type": "markdown",
   "id": "e1d25f11-989e-4fac-b1e3-1749294bfa27",
   "metadata": {},
   "source": [
    "arr"
   ]
  },
  {
   "cell_type": "markdown",
   "id": "ff9d704a-9813-4b48-9579-63e6e4093a7c",
   "metadata": {},
   "source": [
    "#### Create an array of 20 linearly spaced points between 0 and 1:"
   ]
  },
  {
   "cell_type": "code",
   "execution_count": 20,
   "id": "ce919006-e0b4-44fd-b24b-271883cf22d4",
   "metadata": {},
   "outputs": [
    {
     "data": {
      "text/plain": [
       "array([0.        , 0.05263158, 0.10526316, 0.15789474, 0.21052632,\n",
       "       0.26315789, 0.31578947, 0.36842105, 0.42105263, 0.47368421,\n",
       "       0.52631579, 0.57894737, 0.63157895, 0.68421053, 0.73684211,\n",
       "       0.78947368, 0.84210526, 0.89473684, 0.94736842, 1.        ])"
      ]
     },
     "execution_count": 20,
     "metadata": {},
     "output_type": "execute_result"
    }
   ],
   "source": [
    "np.linspace(0,1,20)"
   ]
  },
  {
   "cell_type": "markdown",
   "id": "b9f4a8ca-195e-436b-9337-cf3ef01e9500",
   "metadata": {},
   "source": [
    "## Numpy Indexing and Selection\n",
    "\n",
    "Now you will be given a few matrices, and be asked to replicate the resulting matrix outputs:"
   ]
  },
  {
   "cell_type": "code",
   "execution_count": 23,
   "id": "58d48085-1aca-4243-9938-2ee21fe9e001",
   "metadata": {},
   "outputs": [],
   "source": [
    "arr=np.arange(1,26).reshape(5,5)"
   ]
  },
  {
   "cell_type": "code",
   "execution_count": 25,
   "id": "13a80527-70d1-43d1-9c2d-df028b607fea",
   "metadata": {},
   "outputs": [
    {
     "data": {
      "text/plain": [
       "array([[ 1,  2,  3,  4,  5],\n",
       "       [ 6,  7,  8,  9, 10],\n",
       "       [11, 12, 13, 14, 15],\n",
       "       [16, 17, 18, 19, 20],\n",
       "       [21, 22, 23, 24, 25]])"
      ]
     },
     "execution_count": 25,
     "metadata": {},
     "output_type": "execute_result"
    }
   ],
   "source": [
    "arr"
   ]
  },
  {
   "cell_type": "code",
   "execution_count": 29,
   "id": "79191704-e2cf-4172-967d-9e8517208ff4",
   "metadata": {},
   "outputs": [
    {
     "data": {
      "text/plain": [
       "array([[ 1,  2,  3,  4,  5],\n",
       "       [ 6,  7,  8,  9, 10],\n",
       "       [11, 12, 13, 14, 15],\n",
       "       [16, 17, 18, 19, 20],\n",
       "       [21, 22, 23, 24, 25]])"
      ]
     },
     "execution_count": 29,
     "metadata": {},
     "output_type": "execute_result"
    }
   ],
   "source": [
    "arr[0:5,0:6]"
   ]
  },
  {
   "cell_type": "code",
   "execution_count": 31,
   "id": "19d70f7b-882e-4e68-99a1-01592ea43002",
   "metadata": {},
   "outputs": [
    {
     "data": {
      "text/plain": [
       "array([[12, 13, 14, 15],\n",
       "       [17, 18, 19, 20],\n",
       "       [22, 23, 24, 25]])"
      ]
     },
     "execution_count": 31,
     "metadata": {},
     "output_type": "execute_result"
    }
   ],
   "source": [
    "arr[2:5,1:5]"
   ]
  },
  {
   "cell_type": "code",
   "execution_count": 33,
   "id": "46c67ef0-1bd6-4f48-9fa6-d196c831e3d7",
   "metadata": {},
   "outputs": [
    {
     "data": {
      "text/plain": [
       "20"
      ]
     },
     "execution_count": 33,
     "metadata": {},
     "output_type": "execute_result"
    }
   ],
   "source": [
    "arr[3,4]"
   ]
  },
  {
   "cell_type": "code",
   "execution_count": 45,
   "id": "8073bf8b-219f-4110-b301-8422c22fbd06",
   "metadata": {},
   "outputs": [
    {
     "data": {
      "text/plain": [
       "array([ 2,  7, 12])"
      ]
     },
     "execution_count": 45,
     "metadata": {},
     "output_type": "execute_result"
    }
   ],
   "source": [
    "arr[0:3,1]"
   ]
  },
  {
   "cell_type": "code",
   "execution_count": 47,
   "id": "d007c88b-1f00-41b9-8553-59ecf890fb22",
   "metadata": {},
   "outputs": [
    {
     "data": {
      "text/plain": [
       "array([21, 22, 23, 24, 25])"
      ]
     },
     "execution_count": 47,
     "metadata": {},
     "output_type": "execute_result"
    }
   ],
   "source": [
    "arr[4]"
   ]
  },
  {
   "cell_type": "code",
   "execution_count": 49,
   "id": "941dfe04-45d8-481d-bf73-a6691dcfdaff",
   "metadata": {},
   "outputs": [
    {
     "data": {
      "text/plain": [
       "array([[16, 17, 18, 19, 20],\n",
       "       [21, 22, 23, 24, 25]])"
      ]
     },
     "execution_count": 49,
     "metadata": {},
     "output_type": "execute_result"
    }
   ],
   "source": [
    "arr[3:6]"
   ]
  },
  {
   "cell_type": "code",
   "execution_count": 51,
   "id": "f607f821-f073-4763-b24c-e39b126eddd7",
   "metadata": {},
   "outputs": [
    {
     "data": {
      "text/plain": [
       "325"
      ]
     },
     "execution_count": 51,
     "metadata": {},
     "output_type": "execute_result"
    }
   ],
   "source": [
    "arr.sum()"
   ]
  },
  {
   "cell_type": "markdown",
   "id": "fe5a23b4-b815-4087-ba7f-8fa415cc7271",
   "metadata": {},
   "source": [
    "#### Get the standard deviation of the values in mat"
   ]
  },
  {
   "cell_type": "code",
   "execution_count": 53,
   "id": "0e5d676a-0a85-4162-8ec8-c27d3630631f",
   "metadata": {},
   "outputs": [
    {
     "data": {
      "text/plain": [
       "7.211102550927978"
      ]
     },
     "execution_count": 53,
     "metadata": {},
     "output_type": "execute_result"
    }
   ],
   "source": [
    "np.std(arr)"
   ]
  },
  {
   "cell_type": "markdown",
   "id": "f146d17a-fc84-4343-965d-cfde849abe30",
   "metadata": {},
   "source": [
    "#### Get the sum of all the columns in mat"
   ]
  },
  {
   "cell_type": "code",
   "execution_count": 73,
   "id": "6e302f89-7939-419a-8898-349ec9a5177d",
   "metadata": {},
   "outputs": [
    {
     "data": {
      "text/plain": [
       "array([55, 60, 65, 70, 75])"
      ]
     },
     "execution_count": 73,
     "metadata": {},
     "output_type": "execute_result"
    }
   ],
   "source": [
    "arr.sum(0)"
   ]
  },
  {
   "cell_type": "markdown",
   "id": "375aea34-d829-4ca9-9480-98d3cbea40f5",
   "metadata": {},
   "source": [
    "#### Get the sum of all the rows in mat"
   ]
  },
  {
   "cell_type": "code",
   "execution_count": 67,
   "id": "8b5ef8c4-0d4a-4f8a-a7b5-c1684e84648a",
   "metadata": {},
   "outputs": [
    {
     "data": {
      "text/plain": [
       "array([ 15,  40,  65,  90, 115])"
      ]
     },
     "execution_count": 67,
     "metadata": {},
     "output_type": "execute_result"
    }
   ],
   "source": [
    "arr.sum(1)"
   ]
  },
  {
   "cell_type": "markdown",
   "id": "a25059f0-5c5c-41e0-a038-628bcb1046d6",
   "metadata": {},
   "source": [
    "#### Get the sum of the first row in mat"
   ]
  },
  {
   "cell_type": "code",
   "execution_count": 69,
   "id": "12a76be3-8013-43cb-8d1d-333b629a0b8b",
   "metadata": {},
   "outputs": [
    {
     "data": {
      "text/plain": [
       "15"
      ]
     },
     "execution_count": 69,
     "metadata": {},
     "output_type": "execute_result"
    }
   ],
   "source": [
    "arr[0].sum()"
   ]
  },
  {
   "cell_type": "code",
   "execution_count": 77,
   "id": "9d2a7818-d657-489e-8557-27b784d922ca",
   "metadata": {},
   "outputs": [
    {
     "data": {
      "text/plain": [
       "array([[ 5],\n",
       "       [10],\n",
       "       [15],\n",
       "       [20],\n",
       "       [25]])"
      ]
     },
     "execution_count": 77,
     "metadata": {},
     "output_type": "execute_result"
    }
   ],
   "source": [
    " arr[:,4:]"
   ]
  },
  {
   "cell_type": "code",
   "execution_count": null,
   "id": "efbbc09a-f5a9-47f8-a071-d71e800369a0",
   "metadata": {},
   "outputs": [],
   "source": []
  }
 ],
 "metadata": {
  "kernelspec": {
   "display_name": "Python [conda env:base] *",
   "language": "python",
   "name": "conda-base-py"
  },
  "language_info": {
   "codemirror_mode": {
    "name": "ipython",
    "version": 3
   },
   "file_extension": ".py",
   "mimetype": "text/x-python",
   "name": "python",
   "nbconvert_exporter": "python",
   "pygments_lexer": "ipython3",
   "version": "3.12.7"
  }
 },
 "nbformat": 4,
 "nbformat_minor": 5
}
